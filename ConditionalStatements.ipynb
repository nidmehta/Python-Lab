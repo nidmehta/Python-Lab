{
 "cells": [
  {
   "cell_type": "code",
   "execution_count": 2,
   "id": "90a2b723",
   "metadata": {},
   "outputs": [
    {
     "name": "stdout",
     "output_type": "stream",
     "text": [
      "Enter Two Integer Numbers: 1 2\n",
      "Sum =  3\n"
     ]
    }
   ],
   "source": [
    "#8. Given two integer numbers return their sum. If the sum is greater than 100, then return their product.\n",
    "n1, n2 = map(int, input(\"Enter Two Integer Numbers: \").split())\n",
    "print(\"Sum = \", n1 + n2)\n",
    "if n1 + n2 > 100:\n",
    "    print(\"Product = \", n1 * n2)"
   ]
  },
  {
   "cell_type": "code",
   "execution_count": 3,
   "id": "71c71f67",
   "metadata": {},
   "outputs": [
    {
     "name": "stdout",
     "output_type": "stream",
     "text": [
      "Enter Three Integer Numbers: 1 2 3\n",
      "Result =  24\n"
     ]
    }
   ],
   "source": [
    "#9. Write a Python program to calculate the sum of three given numbers, if the values are not - equal then return four times of their sum\n",
    "n1, n2, n3 = map(int, input(\"Enter Three Integer Numbers: \").split())\n",
    "sum = n1 + n2 + n3\n",
    "if n1 == n2 == n3:\n",
    "    sum += 0\n",
    "else:\n",
    "    sum *= 4\n",
    "print(\"Result = \", sum)"
   ]
  },
  {
   "cell_type": "code",
   "execution_count": 4,
   "id": "e5ae541a",
   "metadata": {},
   "outputs": [
    {
     "name": "stdout",
     "output_type": "stream",
     "text": [
      "Enter Quantity: 10000\n",
      "Total Cost =  500000.0\n"
     ]
    }
   ],
   "source": [
    "#10. A shop will give discount of 50% if the cost of purchased quantity is more than 10000. Ask user for quantity suppose, one unit will cost 100. Judge and print total cost for user.\n",
    "quantity = int(input(\"Enter Quantity: \"))\n",
    "cost = quantity * 100\n",
    "if cost > 10000:\n",
    "    cost *= 50 / 100\n",
    "print(\"Total Cost = \", cost)"
   ]
  },
  {
   "cell_type": "code",
   "execution_count": 6,
   "id": "ffc6d898",
   "metadata": {},
   "outputs": [
    {
     "name": "stdout",
     "output_type": "stream",
     "text": [
      "Enter a Number: 24\n",
      "24  is divisible by 8 and 12. \n"
     ]
    }
   ],
   "source": [
    "#11. To check whether a number is divisible by 8 and 12 or not.\n",
    "n = int(input(\"Enter a Number: \"))\n",
    "if n % 8 == 0 and n % 12 == 0:\n",
    "    print(n, \" is divisible by 8 and 12. \")\n",
    "else:\n",
    "    print(n, \" is not divisible by 8 and 12. \")"
   ]
  },
  {
   "cell_type": "code",
   "execution_count": 7,
   "id": "4c64cf46",
   "metadata": {},
   "outputs": [
    {
     "name": "stdout",
     "output_type": "stream",
     "text": [
      "Enter a Number: 42\n",
      "42  is even. \n"
     ]
    }
   ],
   "source": [
    "#12. To check whether a given number is even or odd.\n",
    "n = int(input(\"Enter a Number: \"))\n",
    "if n % 2 == 0:\n",
    "    print(n, \" is even. \")\n",
    "else:\n",
    "    print(n, \" is odd. \")"
   ]
  },
  {
   "cell_type": "code",
   "execution_count": 9,
   "id": "defc170e",
   "metadata": {},
   "outputs": [
    {
     "name": "stdout",
     "output_type": "stream",
     "text": [
      "Enter marks of five subjects (Physics, Chemistry, Biology, Mathematics and Computer): 90 80 70 60 50\n",
      "Grade C\n"
     ]
    }
   ],
   "source": [
    "#13. Write a program to input marks of five subjects Physics, Chemistry, Biology, Mathematics and Computer. Calculate percentage and grade according to following:\n",
    "'''Percentage >= 90% : Grade A\n",
    "Percentage >= 80% : Grade B\n",
    "Percentage >= 70% : Grade C\n",
    "Percentage >= 60% : Grade D\n",
    "Percentage >= 40% : Grade E\n",
    "Percentage < 40% :  Grade F'''\n",
    "a, b, c, d, e = map(int, input(\"Enter marks of five subjects (Physics, Chemistry, Biology, Mathematics and Computer): \").split())\n",
    "Percentage = (a + b + c + d + e) / 500 * 100\n",
    "if Percentage >= 90:\n",
    "    print(\"Grade A\")\n",
    "elif Percentage >= 80:\n",
    "    print(\"Grade B\")\n",
    "elif Percentage >= 70:\n",
    "    print(\"Grade C\")\n",
    "elif Percentage >= 60:\n",
    "    print(\"Grade D\")\n",
    "elif Percentage >= 40:\n",
    "    print(\"Grade E\")\n",
    "else:\n",
    "    print(\"Grade F\")"
   ]
  },
  {
   "cell_type": "code",
   "execution_count": 10,
   "id": "ec14877c",
   "metadata": {},
   "outputs": [
    {
     "name": "stdout",
     "output_type": "stream",
     "text": [
      "Enter Ages of Three People: 10 20 25\n",
      "Oldest =  25\n",
      "Youngest =  10\n"
     ]
    }
   ],
   "source": [
    "#14. Take input of age of 3 people by user and determine oldest and youngest among them.\n",
    "a1, a2, a3 = map(int, input(\"Enter Ages of Three People: \").split())\n",
    "print(\"Oldest = \", max(a1, a2, a3))\n",
    "print(\"Youngest = \", min(a1, a2, a3))"
   ]
  },
  {
   "cell_type": "code",
   "execution_count": 11,
   "id": "79c9163c",
   "metadata": {},
   "outputs": [
    {
     "name": "stdout",
     "output_type": "stream",
     "text": [
      "Enter Electricity Units: 50\n",
      "Total Electricity Bill = Rs.  30.0\n"
     ]
    }
   ],
   "source": [
    "#15. Write a program to input electricity unit charges and calculate total electricity bill according to the given condition:\n",
    "'''For first 50 units Rs. 0.50/unit\n",
    "For next 100 units Rs. 0.75/unit\n",
    "For next 100 units Rs. 1.20/unit\n",
    "For unit above 250 Rs. 1.50/unit\n",
    "An additional surcharge of 20% is added to the bill'''\n",
    "units = int(input(\"Enter Electricity Units: \"))\n",
    "total = 0\n",
    "if units <= 50:\n",
    "    total += units * 0.50\n",
    "elif units <= 150:\n",
    "    total += (50 * 0.50) + ((units - 50) * 0.75)\n",
    "elif units < 250:\n",
    "    total += (50 * 0.50) + (100 * 0.75) + ((units - 150) * 1.20)\n",
    "else:\n",
    "    total += (50 * 0.50) + (100 * 0.75) + (100 * 1.20) + ((units - 250) * 1.50)\n",
    "total += ((total * 20) / 100)\n",
    "print(\"Total Electricity Bill = Rs. \", total)"
   ]
  },
  {
   "cell_type": "code",
   "execution_count": 12,
   "id": "508b93ec",
   "metadata": {},
   "outputs": [
    {
     "name": "stdout",
     "output_type": "stream",
     "text": [
      "Enter Total Number of Classes Held: 30\n",
      "Enter Total Number of Classes Attended: 20\n",
      "Student will not be allowed to sit in exam.\n"
     ]
    }
   ],
   "source": [
    "#16. A student will not be allowed to sit in exam if his/her attendence is less than 80%.\n",
    "'''Take following input from user:\n",
    "Total Number of classes held\n",
    "Total Number of classes attended \n",
    "And print percentage of class attended. Is student is allowed to sit in exam or not.'''\n",
    "held = int(input(\"Enter Total Number of Classes Held: \"))\n",
    "attended = int(input(\"Enter Total Number of Classes Attended: \"))\n",
    "attendance = attended / held * 100\n",
    "if attendance < 80:\n",
    "    print(\"Student will not be allowed to sit in exam.\")\n",
    "else:\n",
    "    print(\"Student will be allowed to sit in exam.\")"
   ]
  },
  {
   "cell_type": "code",
   "execution_count": 13,
   "id": "fc4e86de",
   "metadata": {},
   "outputs": [
    {
     "name": "stdout",
     "output_type": "stream",
     "text": [
      "Enter Total Income: 100000\n",
      "Total Income Tax =  0.0\n"
     ]
    }
   ],
   "source": [
    "#17. Calculate income tax for the given income by adhering to the below rules\n",
    "'''Taxable Income     Rate (in %)\n",
    "First Rs.10,0000         0\n",
    "Next Rs. 10,0000         10\n",
    "The remaining            20'''\n",
    "income = float(input(\"Enter Total Income: \"))\n",
    "tax = 0\n",
    "if income <= 100000:\n",
    "    tax += 100000 * 0 / 100\n",
    "elif income <= 200000:\n",
    "    tax += (100000 * 0 / 100) + ((income - 100000) * 10 / 100)\n",
    "else:\n",
    "    tax += (100000 * 0 / 100) + (100000 * 10 / 100) + ((income - 200000) * 20 / 100)\n",
    "print(\"Total Income Tax = \", tax)"
   ]
  }
 ],
 "metadata": {
  "kernelspec": {
   "display_name": "Python 3",
   "language": "python",
   "name": "python3"
  },
  "language_info": {
   "codemirror_mode": {
    "name": "ipython",
    "version": 3
   },
   "file_extension": ".py",
   "mimetype": "text/x-python",
   "name": "python",
   "nbconvert_exporter": "python",
   "pygments_lexer": "ipython3",
   "version": "3.8.8"
  }
 },
 "nbformat": 4,
 "nbformat_minor": 5
}
