{
 "cells": [
  {
   "cell_type": "code",
   "execution_count": 1,
   "id": "e9f1a27e",
   "metadata": {},
   "outputs": [
    {
     "name": "stdout",
     "output_type": "stream",
     "text": [
      "Enter List of Words: aaa bb cccc ddddd\n",
      "Longest Word:  ddddd\n",
      "Length of Longest Word:  5\n"
     ]
    }
   ],
   "source": [
    "#48. Write a Python function that takes a list of words and returns the length of the longest one.\n",
    "def func(l):\n",
    "    word = l[0]\n",
    "    maxLen = len(l[0])\n",
    "    for i in l:\n",
    "        if len(i) > maxLen:\n",
    "            maxLen = len(i)\n",
    "            word = i\n",
    "    return word, maxLen\n",
    "\n",
    "l = list(map(str, input(\"Enter List of Words: \").split()))\n",
    "w, ml = func(l)\n",
    "print(\"Longest Word: \", w)\n",
    "print(\"Length of Longest Word: \", ml)"
   ]
  },
  {
   "cell_type": "code",
   "execution_count": 3,
   "id": "4be1dbf9",
   "metadata": {},
   "outputs": [
    {
     "name": "stdout",
     "output_type": "stream",
     "text": [
      "Result:  17\n"
     ]
    }
   ],
   "source": [
    "#49. Write a function x(n) for computing an element in the sequence xn=n^2+1. Call the function for n=4 and write out the result.\n",
    "def x(n):\n",
    "    return (n ** 2) + 1\n",
    "\n",
    "n = 4\n",
    "res = x(n)\n",
    "print(\"Result: \", res)"
   ]
  },
  {
   "cell_type": "code",
   "execution_count": 5,
   "id": "34d4333c",
   "metadata": {},
   "outputs": [
    {
     "name": "stdout",
     "output_type": "stream",
     "text": [
      "0.8475\n"
     ]
    }
   ],
   "source": [
    "#50. Take the following Python code that stores a string: ‘str = 'Y-tatata-acropolis: 0.8475'. Use find and string slicing to extract the portion of the string after the colon character and then use the float function to convert the extracted string into a floating point number.\n",
    "def func(str):\n",
    "    c = str.find(':')\n",
    "    n = str[c + 1:]\n",
    "    nf = float(n)\n",
    "    return nf\n",
    "\n",
    "str = 'Y-tatata-acropolis: 0.8475'\n",
    "nf = func(str)\n",
    "print(nf)"
   ]
  },
  {
   "cell_type": "code",
   "execution_count": 37,
   "id": "8d74661a",
   "metadata": {},
   "outputs": [
    {
     "name": "stdout",
     "output_type": "stream",
     "text": [
      "2\n"
     ]
    }
   ],
   "source": [
    "#51. Write a function that returns the middle value among three integers. (Hint: make use of min() and max()). Write code to test this function with different inputs.\n",
    "def func(a, b, c):\n",
    "    max1 = max(a, b, c)\n",
    "    min1 = min(a, b, c)\n",
    "    mid = 0\n",
    "    if a != max1 and a != min1:\n",
    "        mid = a\n",
    "    elif b != max1 and b != min1:\n",
    "        mid = b\n",
    "    elif c != max1 and c != min1:\n",
    "        mid = c\n",
    "    return mid\n",
    "\n",
    "print(func(1, 3, 2))"
   ]
  },
  {
   "cell_type": "code",
   "execution_count": 7,
   "id": "79753906",
   "metadata": {},
   "outputs": [
    {
     "name": "stdout",
     "output_type": "stream",
     "text": [
      "Area:  8\n",
      "Surface Area:  28\n"
     ]
    }
   ],
   "source": [
    "#52. Write a function that computes the area of a rectangle. Then, write a second function that calls this function three times to compute the surface area of a rectangular solid.\n",
    "def rect(l, b):\n",
    "    return l * b\n",
    "def rs(l, b, h):\n",
    "    return 2 * (rect(l, b) + rect(b, h) + rect(l, h))\n",
    "\n",
    "a = rect(2, 4)\n",
    "print(\"Area: \", a)\n",
    "                \n",
    "sa = rs(2, 4, 1)\n",
    "print(\"Surface Area: \", sa)"
   ]
  },
  {
   "cell_type": "code",
   "execution_count": 8,
   "id": "2247faf3",
   "metadata": {},
   "outputs": [
    {
     "name": "stdout",
     "output_type": "stream",
     "text": [
      "11\n"
     ]
    }
   ],
   "source": [
    "#53. Create an outer function that will accept three parameters, a, b and c. Create an inner function inside an outer function that will calculate the addition of a, b and c. At last, an outer function will add 5 into addition and return it.\n",
    "def outer(a, b, c):\n",
    "    def inner(a, b, c):\n",
    "        return a + b + c\n",
    "    return inner(a, b, c) + 5\n",
    "\n",
    "res = outer(1, 2, 3)\n",
    "print(res)"
   ]
  },
  {
   "cell_type": "code",
   "execution_count": 9,
   "id": "2a20117d",
   "metadata": {},
   "outputs": [
    {
     "name": "stdout",
     "output_type": "stream",
     "text": [
      "257182031095525112107857249934597388918419224714455526533820998388496472644482792132224051962512451185663850090463028434334174412800000000000000000000000\n"
     ]
    }
   ],
   "source": [
    "#54. Write a program to create a recursive function to calculate the product of numbers from 10 to 100.\n",
    "def func(n):\n",
    "    prod = 1\n",
    "    if n < 10:\n",
    "        return prod\n",
    "    return n * func(n-1)\n",
    "\n",
    "n = 100\n",
    "print(func(n))"
   ]
  },
  {
   "cell_type": "code",
   "execution_count": 13,
   "id": "4be6dc50",
   "metadata": {},
   "outputs": [
    {
     "name": "stdout",
     "output_type": "stream",
     "text": [
      "120\n"
     ]
    }
   ],
   "source": [
    "#55. Write a Python function to calculate the factorial of a number (a non-negative integer). The function accepts the number as an argument.\n",
    "def factorial(n):\n",
    "    if n <= 1:\n",
    "        return 1\n",
    "    return n * factorial(n -1)\n",
    "\n",
    "n = 5\n",
    "print(factorial(n))"
   ]
  },
  {
   "cell_type": "code",
   "execution_count": 14,
   "id": "e25a97ea",
   "metadata": {},
   "outputs": [
    {
     "name": "stdout",
     "output_type": "stream",
     "text": [
      "[126, 189, 252, 315, 378, 441]\n"
     ]
    }
   ],
   "source": [
    "#56. Write a Python function to display all the multiples of 7 & 9 within the range 100 to 500.\n",
    "def func():\n",
    "    l = []\n",
    "    for  i in range(100, 501, 1):\n",
    "        if i % 7 == 0 and i % 9 == 0:\n",
    "            l.append(i)\n",
    "    return l\n",
    "\n",
    "print(func())"
   ]
  },
  {
   "cell_type": "code",
   "execution_count": 15,
   "id": "d55ab8eb",
   "metadata": {},
   "outputs": [
    {
     "name": "stdout",
     "output_type": "stream",
     "text": [
      "Enter a Number: 2\n",
      "2  is a prime number. \n"
     ]
    }
   ],
   "source": [
    "#57. Write a Python function  to check whether the given integer is a prime number or not.\n",
    "import math\n",
    "def func(n):\n",
    "    flag = 0\n",
    "    for i in range(2, int(math.sqrt(n)) + 1, 1):\n",
    "        if n % i == 0:\n",
    "            flag = 1\n",
    "            break\n",
    "    if n == 1:\n",
    "        print(n, \" is neither prime nor a composite number.\")\n",
    "    else:\n",
    "        if flag == 0:\n",
    "            print(n, \" is a prime number. \")\n",
    "        else:\n",
    "            print(n, \" is not a prime number. \")\n",
    "\n",
    "n = int(input(\"Enter a Number: \"))\n",
    "func(n)"
   ]
  },
  {
   "cell_type": "code",
   "execution_count": 16,
   "id": "bdb7293a",
   "metadata": {},
   "outputs": [
    {
     "name": "stdout",
     "output_type": "stream",
     "text": [
      "Enter a Number: 153\n",
      "Number is an Armstrong number. \n"
     ]
    }
   ],
   "source": [
    "#58. Write a Python function that checks whether a passed interger is armstrong or not.\n",
    "def func(n1):\n",
    "    n2 = n1\n",
    "    sum = rem = 0\n",
    "    while n2 > 0:\n",
    "        rem = n2 % 10\n",
    "        sum += rem * rem * rem\n",
    "        n2 //= 10\n",
    "    if sum == n1:\n",
    "        print(\"Number is an Armstrong number. \")\n",
    "    else:\n",
    "        print(\"Number is not an Armstrong number. \")\n",
    "        \n",
    "n = int(input(\"Enter a Number: \"))\n",
    "func(n)"
   ]
  },
  {
   "cell_type": "code",
   "execution_count": 30,
   "id": "d41f1491",
   "metadata": {},
   "outputs": [
    {
     "name": "stdout",
     "output_type": "stream",
     "text": [
      "Function 2\n",
      "<function f1 at 0x000001EEC45CF820>\n"
     ]
    }
   ],
   "source": [
    "#59. Program to return a function from another function.\n",
    "def f1():\n",
    "    print(\"Function 1\")\n",
    "def f2():\n",
    "    print(\"Function 2\")\n",
    "    return f1\n",
    "\n",
    "f = f2\n",
    "print(f())"
   ]
  },
  {
   "cell_type": "code",
   "execution_count": 32,
   "id": "eb74a1a1",
   "metadata": {},
   "outputs": [
    {
     "name": "stdout",
     "output_type": "stream",
     "text": [
      "Enter Input: Hello\n",
      "Sorry for the input\n"
     ]
    }
   ],
   "source": [
    "#60. First, def a function, start_process, that takes one argument p. Then, if the start_process function receives an p equal to \"Yes\", it should return \"Start Process\" Alternatively, elif p is equal to \"No\", then the function should return \"Start Process Aborted\". Finally, if start_process gets anything other than those inputs, the function should return \"Sorry for the input\".\n",
    "def startProcess(p):\n",
    "    if p == \"Yes\":\n",
    "        return \"Start Process\" \n",
    "    elif p == \"No\":\n",
    "        return \"Start Process Aborted\"\n",
    "    else:\n",
    "        return \"Sorry for the input\"\n",
    "\n",
    "str = input(\"Enter Input: \")\n",
    "res = startProcess(str)\n",
    "print(res)"
   ]
  },
  {
   "cell_type": "code",
   "execution_count": 35,
   "id": "ca78f861",
   "metadata": {},
   "outputs": [
    {
     "name": "stdout",
     "output_type": "stream",
     "text": [
      "9.6\n",
      "No value\n"
     ]
    }
   ],
   "source": [
    "#61. First, def a function called calculate_distance, with one argument (choose any argument name you like). If the type of the argument is either int or float, the function should return the absolute value of the function input. Otherwise, the function should return \"No value\". Check if it works calling the function with  9.6 and \"what?\".\n",
    "def calculate_distance(x):\n",
    "    if type(x) == int or type(x) == float:\n",
    "        return abs(x)\n",
    "    else:\n",
    "        return \"No value\"\n",
    "\n",
    "print(calculate_distance(9.6))\n",
    "print(calculate_distance(\"what?\"))"
   ]
  }
 ],
 "metadata": {
  "kernelspec": {
   "display_name": "Python 3",
   "language": "python",
   "name": "python3"
  },
  "language_info": {
   "codemirror_mode": {
    "name": "ipython",
    "version": 3
   },
   "file_extension": ".py",
   "mimetype": "text/x-python",
   "name": "python",
   "nbconvert_exporter": "python",
   "pygments_lexer": "ipython3",
   "version": "3.8.8"
  }
 },
 "nbformat": 4,
 "nbformat_minor": 5
}
