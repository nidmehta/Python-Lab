{
 "cells": [
  {
   "cell_type": "code",
   "execution_count": 1,
   "id": "8100b3f3",
   "metadata": {},
   "outputs": [
    {
     "name": "stdout",
     "output_type": "stream",
     "text": [
      "Enter a String: abcde\n",
      "Length of String =  5\n"
     ]
    }
   ],
   "source": [
    "#34. Write a Python program to calculate the length of a given string.\n",
    "s = input(\"Enter a String: \")\n",
    "print(\"Length of String = \", len(s))"
   ]
  },
  {
   "cell_type": "code",
   "execution_count": 4,
   "id": "4f5bf384",
   "metadata": {},
   "outputs": [
    {
     "name": "stdout",
     "output_type": "stream",
     "text": [
      "Enter two Strings: abc xyz\n",
      "xbc   ayz\n"
     ]
    }
   ],
   "source": [
    "#35. Write a Python program to get a single string from two given strings, separated by a space and swap the first characters of each string.\n",
    "'''\n",
    "Sample String : 'abc', 'xyz' \n",
    "Expected Result : 'xbc ayz'\n",
    "'''\n",
    "s1, s2 = input(\"Enter two Strings: \").split()\n",
    "print(s2[0:1]+s1[1:], ' ', s1[0:1]+s2[1:])"
   ]
  },
  {
   "cell_type": "code",
   "execution_count": 7,
   "id": "8b06b6f1",
   "metadata": {},
   "outputs": [
    {
     "name": "stdout",
     "output_type": "stream",
     "text": [
      "Enter a String: Acropolis\n",
      "AcropolisCS\n"
     ]
    }
   ],
   "source": [
    "#36. Write a Python program to add 'polis' at the end of a given string (length should be at least 3).\n",
    "'''\n",
    "If the given string already ends with 'polis' then add 'polisCS' instead.\n",
    "If the string length of the given string is less than 3, leave it unchanged. \n",
    "Sample String : 'abc'\n",
    "Expected Result : 'abcpolisCS' \n",
    "Sample String : 'Acropolis'\n",
    "Expected Result : 'AcropolisCS'\n",
    "'''\n",
    "s = input(\"Enter a String: \")\n",
    "if len(s) >= 3:\n",
    "    if s.endswith('polis'):\n",
    "        s += 'CS'\n",
    "    else:\n",
    "        s += 'polisCS'\n",
    "print(s)"
   ]
  },
  {
   "cell_type": "code",
   "execution_count": 12,
   "id": "4be10c8b",
   "metadata": {},
   "outputs": [
    {
     "name": "stdout",
     "output_type": "stream",
     "text": [
      "Enter a String: abbccc\n",
      "{'a': 1, 'b': 2, 'c': 3}\n"
     ]
    }
   ],
   "source": [
    "#37. Write a Python program to count the number of characters (character frequency) in a string. \n",
    "'''\n",
    "Sample String : google.com'\n",
    "Expected Result : {'o': 3, 'g': 2, '.': 1, 'e': 1, 'l': 1, 'm': 1, 'c': 1}\n",
    "'''\n",
    "s = input(\"Enter a String: \")\n",
    "d = {}\n",
    "for i in s:\n",
    "    k = d.keys()\n",
    "    if i in k:\n",
    "        d[i] += 1\n",
    "    else:\n",
    "        d[i] = 1\n",
    "print(d)"
   ]
  },
  {
   "cell_type": "code",
   "execution_count": 14,
   "id": "c00b7e1a",
   "metadata": {},
   "outputs": [
    {
     "name": "stdout",
     "output_type": "stream",
     "text": [
      "Enter a String: abcde\n",
      "aecdb\n"
     ]
    }
   ],
   "source": [
    "#38. Write a Python program to change a given string to a new string where the second and last chars have been exchanged.\n",
    "s = input(\"Enter a String: \")\n",
    "print(s[0] + s[-1] + s[2:-1] + s[1])"
   ]
  },
  {
   "cell_type": "code",
   "execution_count": 15,
   "id": "d8d85da0",
   "metadata": {},
   "outputs": [
    {
     "name": "stdout",
     "output_type": "stream",
     "text": [
      "Enter a String: abcdefg\n",
      "bdf\n"
     ]
    }
   ],
   "source": [
    "#39. Write a Python program to remove the characters which have even index values of a given string.\n",
    "s = input(\"Enter a String: \")\n",
    "print(s[1::2])"
   ]
  },
  {
   "cell_type": "code",
   "execution_count": 16,
   "id": "0227be05",
   "metadata": {},
   "outputs": [
    {
     "name": "stdout",
     "output_type": "stream",
     "text": [
      "Enter a String: aBCdeF\n",
      "UpperCase:  ABCDEF\n",
      "LowerCase:  abcdef\n"
     ]
    }
   ],
   "source": [
    "#40. Write a Python program that takes input from the user and displays that input back in upper and lower cases.\n",
    "s = input(\"Enter a String: \")\n",
    "print(\"UpperCase: \", s.upper())\n",
    "print(\"LowerCase: \", s.lower())"
   ]
  },
  {
   "cell_type": "code",
   "execution_count": 1,
   "id": "6590a008",
   "metadata": {},
   "outputs": [
    {
     "name": "stdout",
     "output_type": "stream",
     "text": [
      "Enter a String: aabbaabccd\n",
      "Enter Sub-String to be counted: aab\n",
      "2\n"
     ]
    }
   ],
   "source": [
    "#41. Write a Python program to count occurrences of a substring in a string.\n",
    "s = input(\"Enter a String: \")\n",
    "subs = input(\"Enter Sub-String to be counted: \")\n",
    "print(s.count(subs))"
   ]
  },
  {
   "cell_type": "code",
   "execution_count": 2,
   "id": "60cd900b",
   "metadata": {},
   "outputs": [
    {
     "name": "stdout",
     "output_type": "stream",
     "text": [
      "Enter a String: AAbAAAAAAA\n",
      "Enter Number of Characters to LowerCase: 4\n",
      "aabaAAAAAA\n"
     ]
    }
   ],
   "source": [
    "#42. Write a Python program to lowercase first n characters in a string.\n",
    "s = input(\"Enter a String: \")\n",
    "n = int(input(\"Enter Number of Characters to LowerCase: \"))\n",
    "print(s[:n].lower() + s[n:])"
   ]
  },
  {
   "cell_type": "code",
   "execution_count": 3,
   "id": "7c537f54",
   "metadata": {},
   "outputs": [
    {
     "name": "stdout",
     "output_type": "stream",
     "text": [
      "Enter a String: a aa  aaa   aaaa\n",
      "aaaaaaaaaa\n"
     ]
    }
   ],
   "source": [
    "#43. Write a Python program to remove spaces from a given string.\n",
    "s = input(\"Enter a String: \")\n",
    "print(s.replace(' ', ''))"
   ]
  },
  {
   "cell_type": "code",
   "execution_count": 4,
   "id": "ac542ef1",
   "metadata": {},
   "outputs": [
    {
     "name": "stdout",
     "output_type": "stream",
     "text": [
      "Enter a String: a aa aaa\n",
      "New String:  aaaaaa\n"
     ]
    }
   ],
   "source": [
    "#44. Write a Python program to move spaces to the front of a given string.\n",
    "s = input(\"Enter a String: \")\n",
    "s1 = ''\n",
    "for i in range(len(s)):\n",
    "    if i == ' ':\n",
    "        s1.insert(i)\n",
    "s = s.replace(' ', '')\n",
    "s1 += s\n",
    "s = s1\n",
    "print(\"New String: \", s)"
   ]
  },
  {
   "cell_type": "code",
   "execution_count": 1,
   "id": "912aee84",
   "metadata": {},
   "outputs": [
    {
     "name": "stdout",
     "output_type": "stream",
     "text": [
      "Enter a String: aabbbccccd\n",
      "Maximum Occurring Character:  c\n"
     ]
    }
   ],
   "source": [
    "#45. Write a Python program to find the maximum occurring character in a given string.\n",
    "s = input(\"Enter a String: \")\n",
    "d = {}\n",
    "for i in s:\n",
    "    if i in d:\n",
    "        d[i] += 1\n",
    "    else:\n",
    "        d[i] = 1\n",
    "print(\"Maximum Occurring Character: \", max(d, key = d.get))"
   ]
  },
  {
   "cell_type": "code",
   "execution_count": 7,
   "id": "f677ee47",
   "metadata": {},
   "outputs": [
    {
     "name": "stdout",
     "output_type": "stream",
     "text": [
      "Enter a String: aaa bbbb ccccc\n",
      "AaA BbbB CcccC\n"
     ]
    }
   ],
   "source": [
    "#46. Write a Python program to capitalize first and last letters of each word of a given string.\n",
    "s = input(\"Enter a String: \")\n",
    "s = s.title()\n",
    "s = s.split()\n",
    "s1 = ''\n",
    "for i in s:\n",
    "    s1 += i[:-1] + i[-1].upper() + \" \"\n",
    "s = s1[:-1]\n",
    "print(s)"
   ]
  },
  {
   "cell_type": "code",
   "execution_count": 8,
   "id": "f08bfda8",
   "metadata": {},
   "outputs": [
    {
     "name": "stdout",
     "output_type": "stream",
     "text": [
      "Enter a String: 12abc3de4f5\n",
      "Sum of Digits of the String:  15\n"
     ]
    }
   ],
   "source": [
    "#47. Write a Python program to compute sum of digits of a given string.\n",
    "s = input(\"Enter a String: \")\n",
    "sum = 0\n",
    "for i in s:\n",
    "    if i.isdigit():\n",
    "        sum += int(i)\n",
    "print(\"Sum of Digits of the String: \", sum)"
   ]
  }
 ],
 "metadata": {
  "kernelspec": {
   "display_name": "Python 3",
   "language": "python",
   "name": "python3"
  },
  "language_info": {
   "codemirror_mode": {
    "name": "ipython",
    "version": 3
   },
   "file_extension": ".py",
   "mimetype": "text/x-python",
   "name": "python",
   "nbconvert_exporter": "python",
   "pygments_lexer": "ipython3",
   "version": "3.8.8"
  }
 },
 "nbformat": 4,
 "nbformat_minor": 5
}
