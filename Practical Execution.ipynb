{
 "cells": [
  {
   "cell_type": "code",
   "execution_count": 1,
   "id": "7a933401",
   "metadata": {},
   "outputs": [
    {
     "name": "stdout",
     "output_type": "stream",
     "text": [
      "Enter your name: Nidhi\n",
      "Good Afternoon Nidhi\n"
     ]
    }
   ],
   "source": [
    "# 1. Write a python program to display a user entered name followed by Good Afternoon using input() function.\n",
    "n = input(\"Enter your name: \")\n",
    "print(\"Good Afternoon\", n)"
   ]
  },
  {
   "cell_type": "code",
   "execution_count": 2,
   "id": "a5ee0e2d",
   "metadata": {},
   "outputs": [
    {
     "name": "stdout",
     "output_type": "stream",
     "text": [
      "Enter marks of five subjects (Physics, Chemistry, Biology, Mathematics and Computer): 90 80 70 80 90\n",
      "Grade B\n"
     ]
    }
   ],
   "source": [
    "# 2. Write a program to input marks of five subjects Physics, Chemistry, Biology, Mathematics and Computer. Calculate percentage and grade according to following:\n",
    "'''Percentage >= 90% : Grade A\n",
    "Percentage >= 80% : Grade B\n",
    "Percentage >= 70% : Grade C\n",
    "Percentage >= 60% : Grade D\n",
    "Percentage >= 40% : Grade E\n",
    "Percentage < 40% :  Grade F'''\n",
    "a, b, c, d, e = map(int, input(\"Enter marks of five subjects (Physics, Chemistry, Biology, Mathematics and Computer): \").split())\n",
    "Percentage = (a + b + c + d + e) / 500 * 100\n",
    "if Percentage >= 90:\n",
    "    print(\"Grade A\")\n",
    "elif Percentage >= 80:\n",
    "    print(\"Grade B\")\n",
    "elif Percentage >= 70:\n",
    "    print(\"Grade C\")\n",
    "elif Percentage >= 60:\n",
    "    print(\"Grade D\")\n",
    "elif Percentage >= 40:\n",
    "    print(\"Grade E\")\n",
    "else:\n",
    "    print(\"Grade F\")"
   ]
  },
  {
   "cell_type": "code",
   "execution_count": 3,
   "id": "80b10b4d",
   "metadata": {},
   "outputs": [
    {
     "name": "stdout",
     "output_type": "stream",
     "text": [
      "Enter a string: aa  bbb   cccc    ddddd\n",
      "Edited string: aa bbb  cccc  ddddd\n"
     ]
    }
   ],
   "source": [
    "# 3. Replace double spaces with single spaces in a string\n",
    "s = input(\"Enter a string: \")\n",
    "print(\"Edited string:\", s.replace(\"  \", \" \"))"
   ]
  },
  {
   "cell_type": "code",
   "execution_count": 4,
   "id": "21bbe313",
   "metadata": {},
   "outputs": [
    {
     "name": "stdout",
     "output_type": "stream",
     "text": [
      "Enter fruits: Cherry Strawberry Pineapple Banana Kiwi Watermelon Orange\n",
      "['Cherry', 'Strawberry', 'Pineapple', 'Banana', 'Kiwi', 'Watermelon', 'Orange']\n"
     ]
    }
   ],
   "source": [
    "# 4. Write a program to store seven fruits in a list entered by the user\n",
    "l = list(map(str, input(\"Enter fruits: \").split()))[:7]\n",
    "print(l)"
   ]
  },
  {
   "cell_type": "code",
   "execution_count": 5,
   "id": "ae80822c",
   "metadata": {},
   "outputs": [
    {
     "name": "stdout",
     "output_type": "stream",
     "text": [
      "Enter marks of six students: 40 50 10 30 20 60\n",
      "[10, 20, 30, 40, 50, 60]\n"
     ]
    }
   ],
   "source": [
    "# 5. Write a program to enter marks of 6 students and display them in sorted order.\n",
    "l = list(map(int, input(\"Enter marks of six students: \").split()))[:6]\n",
    "print(sorted(l))"
   ]
  },
  {
   "cell_type": "code",
   "execution_count": 6,
   "id": "e6d8173b",
   "metadata": {},
   "outputs": [
    {
     "name": "stdout",
     "output_type": "stream",
     "text": [
      "Total number of zeroes in the given tuple: 3\n"
     ]
    }
   ],
   "source": [
    "# 6. Write a program to count the number of zeroes in following tuple.\n",
    "a = (7, 0, 8, 0, 0, 9)\n",
    "count = 0\n",
    "for i in a:\n",
    "    if i == 0:\n",
    "        count += 1\n",
    "print(\"Total number of zeroes in the given tuple:\", count)"
   ]
  },
  {
   "cell_type": "code",
   "execution_count": 11,
   "id": "45d6bcfb",
   "metadata": {},
   "outputs": [
    {
     "name": "stdout",
     "output_type": "stream",
     "text": [
      "Enter two numbers: 100 1\n",
      "Sum =  101\n",
      "Product =  100\n"
     ]
    }
   ],
   "source": [
    "# 7. Given two integer numbers return their sum. If the sum is greater than 100, then return their product.\n",
    "a, b = input(\"Enter two numbers: \").split()\n",
    "print(\"Sum = \", int(a) + int(b))\n",
    "if (int(a) + int(b)) > 100:\n",
    "    print(\"Product = \", int(a) * int(b))"
   ]
  },
  {
   "cell_type": "code",
   "execution_count": 13,
   "id": "d14e70cf",
   "metadata": {},
   "outputs": [
    {
     "name": "stdout",
     "output_type": "stream",
     "text": [
      "Enter Number of Terms: 3\n",
      "Sum of Series =  369\n"
     ]
    }
   ],
   "source": [
    "# 8. Find the sum of the series 3 +33 + 333 + 3333 + .. n terms\n",
    "n = int(input(\"Enter Number of Terms: \"))\n",
    "sum = 0\n",
    "temp = 3\n",
    "for i in range(1, n + 1, 1):\n",
    "    sum += temp\n",
    "    temp = (temp * 10) + 3\n",
    "print(\"Sum of Series = \", sum)"
   ]
  },
  {
   "cell_type": "code",
   "execution_count": 14,
   "id": "be92b383",
   "metadata": {},
   "outputs": [
    {
     "name": "stdout",
     "output_type": "stream",
     "text": [
      "2\n",
      "{20, '20'}\n"
     ]
    }
   ],
   "source": [
    "# 9. What will be the length of the following set\n",
    "'''S =set()\n",
    "S.add(20)\n",
    "S.add(20.0)\n",
    "S.add(“20”)\n",
    "Length of S after operation?'''\n",
    "S = set()\n",
    "S.add(20)\n",
    "S.add(20.0)\n",
    "S.add(\"20\")\n",
    "print(len(S))\n",
    "print(S)"
   ]
  },
  {
   "cell_type": "code",
   "execution_count": 19,
   "id": "609aa9dd",
   "metadata": {},
   "outputs": [
    {
     "name": "stdout",
     "output_type": "stream",
     "text": [
      "NO\n"
     ]
    }
   ],
   "source": [
    "# 10. Can you change the values inside a list which is contained in set S?\n",
    "# S = {8, 7, 12, \"Simarjeet\", [1, 2]}\n",
    "print(\"NO\")"
   ]
  },
  {
   "cell_type": "code",
   "execution_count": 4,
   "id": "65b422fc",
   "metadata": {},
   "outputs": [
    {
     "name": "stdout",
     "output_type": "stream",
     "text": [
      "Enter a string: abcdefg\n",
      "agcdefa\n"
     ]
    }
   ],
   "source": [
    "# 11. Write a Python program to change a given string to a new string where the second and last chars have been exchanged.\n",
    "s = input(\"Enter a string: \")\n",
    "print(s[0] + s[-1:] + s[2:-1] + s[:1])"
   ]
  },
  {
   "cell_type": "code",
   "execution_count": 6,
   "id": "63886a3b",
   "metadata": {},
   "outputs": [
    {
     "name": "stdout",
     "output_type": "stream",
     "text": [
      "Enter username: abcdefg1234\n",
      "Username consists of more than 10 characters. \n"
     ]
    }
   ],
   "source": [
    "# 12. Write a program to check whether a username consists of less than 10 characters or not.\n",
    "u = input(\"Enter username: \")\n",
    "if len(u) < 10:\n",
    "    print(\"Username consists of less than 10 characters. \")\n",
    "else: \n",
    "    print(\"Username consists of more than 10 characters. \")"
   ]
  },
  {
   "cell_type": "code",
   "execution_count": 7,
   "id": "e3499cff",
   "metadata": {},
   "outputs": [
    {
     "name": "stdout",
     "output_type": "stream",
     "text": [
      "Enter text: abcSimarjeet\n",
      "Given post is talking about \"Simarjeet\"\n"
     ]
    }
   ],
   "source": [
    "# 13. Write a program to find out whether a given post is talking about ”Simarjeet” or not.\n",
    "s = input(\"Enter text: \")\n",
    "if \"Simarjeet\" in s:\n",
    "    print('Given post is talking about \"Simarjeet\"')\n",
    "else:\n",
    "    print('Given post is not talking about \"Simarjeet\"')"
   ]
  },
  {
   "cell_type": "code",
   "execution_count": 10,
   "id": "da61c11f",
   "metadata": {},
   "outputs": [
    {
     "name": "stdout",
     "output_type": "stream",
     "text": [
      "Hello Simarjeet\n",
      "Hello Sohan\n",
      "Hello Sachin\n"
     ]
    }
   ],
   "source": [
    "# 14. Write a program to greet all the person names stored in a list L1 and which starts with ‘S’. (hint: use startswith(“S”) method)\n",
    "L1 = [\"Simarjeet\", \"Sohan\", \"Sachin\", \"Rahul\"]\n",
    "for i in L1:\n",
    "    if i[0] == \"S\":\n",
    "        print(\"Hello\", i)"
   ]
  },
  {
   "cell_type": "code",
   "execution_count": 11,
   "id": "34682557",
   "metadata": {},
   "outputs": [
    {
     "name": "stdout",
     "output_type": "stream",
     "text": [
      "Enter a Number: 2\n",
      "2  is a prime number. \n"
     ]
    }
   ],
   "source": [
    "# 15. Program to find whether a given number is a prime number or not.\n",
    "import math\n",
    "n = int(input(\"Enter a Number: \"))\n",
    "flag = 0\n",
    "for i in range(2, int(math.sqrt(n)) + 1, 1):\n",
    "    if n % i == 0:\n",
    "        flag = 1\n",
    "        break\n",
    "if n == 1:\n",
    "    print(n, \" is neither prime nor a composite number.\")\n",
    "else:\n",
    "    if flag == 0:\n",
    "        print(n, \" is a prime number. \")\n",
    "    else:\n",
    "        print(n, \" is not a prime number. \")"
   ]
  },
  {
   "cell_type": "code",
   "execution_count": 12,
   "id": "9bc0303c",
   "metadata": {},
   "outputs": [
    {
     "name": "stdout",
     "output_type": "stream",
     "text": [
      "Enter three numbers: 1 2 3\n",
      "Maximum =  3\n"
     ]
    }
   ],
   "source": [
    "# 16. Find the greatest of 3 numbers using function\n",
    "a, b, c = input(\"Enter three numbers: \").split()\n",
    "print(\"Maximum = \", max(int(a), int(b), int(c)))"
   ]
  },
  {
   "cell_type": "code",
   "execution_count": 14,
   "id": "a9718132",
   "metadata": {},
   "outputs": [
    {
     "name": "stdout",
     "output_type": "stream",
     "text": [
      "Hello Bye\n"
     ]
    }
   ],
   "source": [
    "# 17. How do you prevent a python function to print a new line at the end.(use , end = “ ” in print after hello)\n",
    "print(\"Hello\", end = \" \")\n",
    "print(\"Bye\")"
   ]
  },
  {
   "cell_type": "code",
   "execution_count": 15,
   "id": "36e6a629",
   "metadata": {},
   "outputs": [
    {
     "name": "stdout",
     "output_type": "stream",
     "text": [
      "Enter a number: 5\n",
      "Sum of first 5 natural numbers: 15\n"
     ]
    }
   ],
   "source": [
    "# 18. Write a function to calculate the sum of first n natural numbers.\n",
    "n = int(input(\"Enter a number: \"))\n",
    "sum = 0\n",
    "for i in range(1, n + 1):\n",
    "    sum += i\n",
    "print(\"Sum of first\", n, \"natural numbers:\", sum)"
   ]
  },
  {
   "cell_type": "code",
   "execution_count": 16,
   "id": "a84c5ef7",
   "metadata": {},
   "outputs": [
    {
     "name": "stdout",
     "output_type": "stream",
     "text": [
      "Enter a Number: 123\n",
      "Reverse of the Number:  321\n"
     ]
    }
   ],
   "source": [
    "# 19. Program to reverse a given Number.    \n",
    "'''ex: n=123   Reversed no is 321'''\n",
    "n = int(input(\"Enter a Number: \"))\n",
    "rem = rev = 0\n",
    "while n > 0:\n",
    "    rem = n % 10\n",
    "    rev = (rev * 10) + rem\n",
    "    n //= 10\n",
    "print(\"Reverse of the Number: \", rev)"
   ]
  },
  {
   "cell_type": "code",
   "execution_count": 17,
   "id": "cf8f56b7",
   "metadata": {},
   "outputs": [
    {
     "name": "stdout",
     "output_type": "stream",
     "text": [
      "Enter a String: aBCdeF\n",
      "UpperCase:  ABCDEF\n",
      "LowerCase:  abcdef\n"
     ]
    }
   ],
   "source": [
    "# 20. Write a Python program that takes input from the user and displays that input back in upper and lower cases.\n",
    "s = input(\"Enter a String: \")\n",
    "print(\"UpperCase: \", s.upper())\n",
    "print(\"LowerCase: \", s.lower())"
   ]
  },
  {
   "cell_type": "code",
   "execution_count": 19,
   "id": "3d066fce",
   "metadata": {},
   "outputs": [
    {
     "name": "stdout",
     "output_type": "stream",
     "text": [
      "2 * 1 = 2\n",
      "2 * 2 = 4\n",
      "2 * 3 = 6\n",
      "2 * 4 = 8\n",
      "2 * 5 = 10\n",
      "2 * 6 = 12\n",
      "2 * 7 = 14\n",
      "2 * 8 = 16\n",
      "2 * 9 = 18\n",
      "2 * 10 = 20\n",
      " \n",
      "3 * 1 = 3\n",
      "3 * 2 = 6\n",
      "3 * 3 = 9\n",
      "3 * 4 = 12\n",
      "3 * 5 = 15\n",
      "3 * 6 = 18\n",
      "3 * 7 = 21\n",
      "3 * 8 = 24\n",
      "3 * 9 = 27\n",
      "3 * 10 = 30\n",
      " \n",
      "4 * 1 = 4\n",
      "4 * 2 = 8\n",
      "4 * 3 = 12\n",
      "4 * 4 = 16\n",
      "4 * 5 = 20\n",
      "4 * 6 = 24\n",
      "4 * 7 = 28\n",
      "4 * 8 = 32\n",
      "4 * 9 = 36\n",
      "4 * 10 = 40\n",
      " \n",
      "5 * 1 = 5\n",
      "5 * 2 = 10\n",
      "5 * 3 = 15\n",
      "5 * 4 = 20\n",
      "5 * 5 = 25\n",
      "5 * 6 = 30\n",
      "5 * 7 = 35\n",
      "5 * 8 = 40\n",
      "5 * 9 = 45\n",
      "5 * 10 = 50\n",
      " \n",
      "6 * 1 = 6\n",
      "6 * 2 = 12\n",
      "6 * 3 = 18\n",
      "6 * 4 = 24\n",
      "6 * 5 = 30\n",
      "6 * 6 = 36\n",
      "6 * 7 = 42\n",
      "6 * 8 = 48\n",
      "6 * 9 = 54\n",
      "6 * 10 = 60\n",
      " \n",
      "7 * 1 = 7\n",
      "7 * 2 = 14\n",
      "7 * 3 = 21\n",
      "7 * 4 = 28\n",
      "7 * 5 = 35\n",
      "7 * 6 = 42\n",
      "7 * 7 = 49\n",
      "7 * 8 = 56\n",
      "7 * 9 = 63\n",
      "7 * 10 = 70\n",
      " \n",
      "8 * 1 = 8\n",
      "8 * 2 = 16\n",
      "8 * 3 = 24\n",
      "8 * 4 = 32\n",
      "8 * 5 = 40\n",
      "8 * 6 = 48\n",
      "8 * 7 = 56\n",
      "8 * 8 = 64\n",
      "8 * 9 = 72\n",
      "8 * 10 = 80\n",
      " \n",
      "9 * 1 = 9\n",
      "9 * 2 = 18\n",
      "9 * 3 = 27\n",
      "9 * 4 = 36\n",
      "9 * 5 = 45\n",
      "9 * 6 = 54\n",
      "9 * 7 = 63\n",
      "9 * 8 = 72\n",
      "9 * 9 = 81\n",
      "9 * 10 = 90\n",
      " \n",
      "10 * 1 = 10\n",
      "10 * 2 = 20\n",
      "10 * 3 = 30\n",
      "10 * 4 = 40\n",
      "10 * 5 = 50\n",
      "10 * 6 = 60\n",
      "10 * 7 = 70\n",
      "10 * 8 = 80\n",
      "10 * 9 = 90\n",
      "10 * 10 = 100\n",
      " \n",
      "11 * 1 = 11\n",
      "11 * 2 = 22\n",
      "11 * 3 = 33\n",
      "11 * 4 = 44\n",
      "11 * 5 = 55\n",
      "11 * 6 = 66\n",
      "11 * 7 = 77\n",
      "11 * 8 = 88\n",
      "11 * 9 = 99\n",
      "11 * 10 = 110\n",
      " \n",
      "12 * 1 = 12\n",
      "12 * 2 = 24\n",
      "12 * 3 = 36\n",
      "12 * 4 = 48\n",
      "12 * 5 = 60\n",
      "12 * 6 = 72\n",
      "12 * 7 = 84\n",
      "12 * 8 = 96\n",
      "12 * 9 = 108\n",
      "12 * 10 = 120\n",
      " \n",
      "13 * 1 = 13\n",
      "13 * 2 = 26\n",
      "13 * 3 = 39\n",
      "13 * 4 = 52\n",
      "13 * 5 = 65\n",
      "13 * 6 = 78\n",
      "13 * 7 = 91\n",
      "13 * 8 = 104\n",
      "13 * 9 = 117\n",
      "13 * 10 = 130\n",
      " \n",
      "14 * 1 = 14\n",
      "14 * 2 = 28\n",
      "14 * 3 = 42\n",
      "14 * 4 = 56\n",
      "14 * 5 = 70\n",
      "14 * 6 = 84\n",
      "14 * 7 = 98\n",
      "14 * 8 = 112\n",
      "14 * 9 = 126\n",
      "14 * 10 = 140\n",
      " \n",
      "15 * 1 = 15\n",
      "15 * 2 = 30\n",
      "15 * 3 = 45\n",
      "15 * 4 = 60\n",
      "15 * 5 = 75\n",
      "15 * 6 = 90\n",
      "15 * 7 = 105\n",
      "15 * 8 = 120\n",
      "15 * 9 = 135\n",
      "15 * 10 = 150\n",
      " \n",
      "16 * 1 = 16\n",
      "16 * 2 = 32\n",
      "16 * 3 = 48\n",
      "16 * 4 = 64\n",
      "16 * 5 = 80\n",
      "16 * 6 = 96\n",
      "16 * 7 = 112\n",
      "16 * 8 = 128\n",
      "16 * 9 = 144\n",
      "16 * 10 = 160\n",
      " \n",
      "17 * 1 = 17\n",
      "17 * 2 = 34\n",
      "17 * 3 = 51\n",
      "17 * 4 = 68\n",
      "17 * 5 = 85\n",
      "17 * 6 = 102\n",
      "17 * 7 = 119\n",
      "17 * 8 = 136\n",
      "17 * 9 = 153\n",
      "17 * 10 = 170\n",
      " \n",
      "18 * 1 = 18\n",
      "18 * 2 = 36\n",
      "18 * 3 = 54\n",
      "18 * 4 = 72\n",
      "18 * 5 = 90\n",
      "18 * 6 = 108\n",
      "18 * 7 = 126\n",
      "18 * 8 = 144\n",
      "18 * 9 = 162\n",
      "18 * 10 = 180\n",
      " \n",
      "19 * 1 = 19\n",
      "19 * 2 = 38\n",
      "19 * 3 = 57\n",
      "19 * 4 = 76\n",
      "19 * 5 = 95\n",
      "19 * 6 = 114\n",
      "19 * 7 = 133\n",
      "19 * 8 = 152\n",
      "19 * 9 = 171\n",
      "19 * 10 = 190\n",
      " \n",
      "20 * 1 = 20\n",
      "20 * 2 = 40\n",
      "20 * 3 = 60\n",
      "20 * 4 = 80\n",
      "20 * 5 = 100\n",
      "20 * 6 = 120\n",
      "20 * 7 = 140\n",
      "20 * 8 = 160\n",
      "20 * 9 = 180\n",
      "20 * 10 = 200\n",
      " \n"
     ]
    }
   ],
   "source": [
    "# 21. Write a program to generate multiplication tables from 2 to 20.\n",
    "for x in range(2, 21):\n",
    "    for i in range(1, 11):\n",
    "        print(x, \"*\", i, \"=\", x*i)\n",
    "    print(\" \")"
   ]
  },
  {
   "cell_type": "code",
   "execution_count": 20,
   "id": "6ad6e12b",
   "metadata": {},
   "outputs": [
    {
     "name": "stdout",
     "output_type": "stream",
     "text": [
      "Enter Number of Elements: 5\n",
      "Enter the Numbers: 1 2 3 4 5\n",
      "Enter Position of the Element to be Deleted: 2\n",
      "[1, 2, 4, 5]\n"
     ]
    }
   ],
   "source": [
    "# 22. Python program to delete an element from a list by index which is given by the user.\n",
    "n = int(input(\"Enter Number of Elements: \"))\n",
    "l = list(map(int, input(\"Enter the Numbers: \").strip().split()))[:n]\n",
    "pos = int(input(\"Enter Position of the Element to be Deleted: \"))\n",
    "del l[pos]\n",
    "print(l)"
   ]
  },
  {
   "cell_type": "code",
   "execution_count": 21,
   "id": "428e3d8b",
   "metadata": {},
   "outputs": [
    {
     "name": "stdout",
     "output_type": "stream",
     "text": [
      "Enter Number of Elements: 5\n",
      "Enter the Numbers: 1 2 3 4 5\n",
      "Enter the Number: 3\n",
      "Values greater than 3 in the list: 4 5 "
     ]
    }
   ],
   "source": [
    "# 23. Write a Python program to find all the values in a list are greater than a given number.\n",
    "n = int(input(\"Enter Number of Elements: \"))\n",
    "l = list(map(int, input(\"Enter the Numbers: \").strip().split()))[:n]\n",
    "ele = int(input(\"Enter the Number: \"))\n",
    "print(\"Values greater than\", ele, \"in the list:\", end = \" \")\n",
    "for i in l:\n",
    "    if i > ele:\n",
    "        print(i, end = \" \")"
   ]
  },
  {
   "cell_type": "code",
   "execution_count": 23,
   "id": "8b7093cf",
   "metadata": {},
   "outputs": [
    {
     "name": "stdout",
     "output_type": "stream",
     "text": [
      "True\n",
      "True\n"
     ]
    }
   ],
   "source": [
    "# 24. Write a program to check whether 2 files are identical or not.\n",
    "import filecmp\n",
    "\n",
    "f1 = \"C:/Users/nidhi/PycharmProjects/PythonRepository/text1.txt\"\n",
    "f2 = \"C:/Users/nidhi/PycharmProjects/PythonRepository/text2.txt\"\n",
    "  \n",
    "# shallow comparison\n",
    "result = filecmp.cmp(f1, f2)\n",
    "print(result)\n",
    "# deep comparison\n",
    "result = filecmp.cmp(f1, f2, shallow=False)\n",
    "print(result)"
   ]
  },
  {
   "cell_type": "code",
   "execution_count": 24,
   "id": "f9ad942a",
   "metadata": {},
   "outputs": [],
   "source": [
    "# 25. Write a program to empty all the contents of a file.\n",
    "f = open(\"C:/Users/nidhi/PycharmProjects/PythonRepository/text3.txt\", \"r+\")\n",
    "f.truncate(0)\n",
    "f.close()"
   ]
  }
 ],
 "metadata": {
  "kernelspec": {
   "display_name": "Python 3",
   "language": "python",
   "name": "python3"
  },
  "language_info": {
   "codemirror_mode": {
    "name": "ipython",
    "version": 3
   },
   "file_extension": ".py",
   "mimetype": "text/x-python",
   "name": "python",
   "nbconvert_exporter": "python",
   "pygments_lexer": "ipython3",
   "version": "3.8.8"
  }
 },
 "nbformat": 4,
 "nbformat_minor": 5
}
