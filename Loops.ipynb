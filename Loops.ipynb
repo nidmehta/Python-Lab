{
 "cells": [
  {
   "cell_type": "code",
   "execution_count": 7,
   "id": "482f75f3",
   "metadata": {},
   "outputs": [
    {
     "name": "stdout",
     "output_type": "stream",
     "text": [
      "Enter a Number: 12345\n",
      "Digital Sum =  15\n"
     ]
    }
   ],
   "source": [
    "#18. Program to find digital sum of a given Number\n",
    "'''ex: n=123  Digital sum----->1+2+3=6'''\n",
    "n = int(input(\"Enter a Number: \"))\n",
    "sum = 0\n",
    "while n > 0:\n",
    "    sum += int(n % 10)\n",
    "    n //= 10\n",
    "print(\"Digital Sum = \", sum)"
   ]
  },
  {
   "cell_type": "code",
   "execution_count": 6,
   "id": "b2eb97ab",
   "metadata": {},
   "outputs": [
    {
     "name": "stdout",
     "output_type": "stream",
     "text": [
      "Enter a Number: 123\n",
      "Digital Product =  6\n"
     ]
    }
   ],
   "source": [
    "#19. \"Program to find the digital product of a given number\n",
    "'''ex: n=43   Digital product ----->4*3=12'''\n",
    "n = int(input(\"Enter a Number: \"))\n",
    "product = 1\n",
    "while n > 0:\n",
    "    product *= int(n % 10)\n",
    "    n //= 10\n",
    "print(\"Digital Product = \", product)"
   ]
  },
  {
   "cell_type": "code",
   "execution_count": 10,
   "id": "f8891361",
   "metadata": {},
   "outputs": [
    {
     "name": "stdout",
     "output_type": "stream",
     "text": [
      "Enter Number of Terms: 2\n",
      "Sum of Series =  36\n"
     ]
    }
   ],
   "source": [
    "#20. Find the sum of the series 3 +33 + 333 + 3333 + .. n terms\n",
    "n = int(input(\"Enter Number of Terms: \"))\n",
    "sum = 0\n",
    "temp = 3\n",
    "for i in range(1, n + 1, 1):\n",
    "    sum += temp\n",
    "    temp = (temp * 10) + 3\n",
    "print(\"Sum of Series = \", sum)"
   ]
  },
  {
   "cell_type": "code",
   "execution_count": 16,
   "id": "d59c407b",
   "metadata": {},
   "outputs": [
    {
     "name": "stdout",
     "output_type": "stream",
     "text": [
      "\n",
      "* \n",
      "* * \n",
      "* * * \n",
      "* * * * \n",
      "* * * * * \n",
      "* * * * \n",
      "* * * \n",
      "* * \n",
      "* \n"
     ]
    }
   ],
   "source": [
    "#21. Print the following pattern:\n",
    "'''\n",
    "* \n",
    "* * \n",
    "* * * \n",
    "* * * * \n",
    "* * * * * \n",
    "* * * * \n",
    "* * * \n",
    "* * \n",
    "*\n",
    "'''\n",
    "for i in range(6):\n",
    "    print(\"* \"*i)\n",
    "for i in range(4, 0, -1):\n",
    "    print(\"* \"*i)"
   ]
  },
  {
   "cell_type": "code",
   "execution_count": 18,
   "id": "f917b6d5",
   "metadata": {},
   "outputs": [
    {
     "name": "stdout",
     "output_type": "stream",
     "text": [
      "Enter a Number: 12345\n",
      "Reverse of the Number:  54321\n"
     ]
    }
   ],
   "source": [
    "#22. Program to reverse a given Number.    \n",
    "'''ex: n=123   Reversed no is 321'''\n",
    "n = int(input(\"Enter a Number: \"))\n",
    "rem = rev = 0\n",
    "while n > 0:\n",
    "    rem = n % 10\n",
    "    rev = (rev * 10) + rem\n",
    "    n //= 10\n",
    "print(\"Reverse of the Number: \", rev)"
   ]
  },
  {
   "cell_type": "code",
   "execution_count": 19,
   "id": "df490638",
   "metadata": {},
   "outputs": [
    {
     "name": "stdout",
     "output_type": "stream",
     "text": [
      "Enter a Number: 121\n",
      "Number is a palindrome. \n"
     ]
    }
   ],
   "source": [
    "#23. Program to check whether a given number is a palindrome or not\n",
    "n1 = int(input(\"Enter a Number: \"))\n",
    "n2 = n1\n",
    "rem = rev = 0\n",
    "while n2 > 0:\n",
    "    rem = n2 % 10\n",
    "    rev = (rev * 10) + rem\n",
    "    n2 //= 10\n",
    "if rev == n1:\n",
    "    print(\"Number is a palindrome. \")\n",
    "else:\n",
    "    print(\"Number is not a palindrome. \")"
   ]
  },
  {
   "cell_type": "code",
   "execution_count": 20,
   "id": "a0f0c57b",
   "metadata": {},
   "outputs": [
    {
     "name": "stdout",
     "output_type": "stream",
     "text": [
      "Enter a Number: 153\n",
      "Number is an Armstrong number. \n"
     ]
    }
   ],
   "source": [
    "#24. Program to check whether a given number is an Armstrong number or not.\n",
    "n1 = int(input(\"Enter a Number: \"))\n",
    "n2 = n1\n",
    "sum = rem = 0\n",
    "while n2 > 0:\n",
    "    rem = n2 % 10\n",
    "    sum += rem * rem * rem\n",
    "    n2 //= 10\n",
    "if sum == n1:\n",
    "    print(\"Number is an Armstrong number. \")\n",
    "else:\n",
    "    print(\"Number is not an Armstrong number. \")"
   ]
  },
  {
   "cell_type": "code",
   "execution_count": 24,
   "id": "0d07b5df",
   "metadata": {},
   "outputs": [
    {
     "name": "stdout",
     "output_type": "stream",
     "text": [
      "Enter a Number: 5\n",
      "Factorial =  120\n"
     ]
    }
   ],
   "source": [
    "#25. Program to find factorial of a given number.\n",
    "n = int(input(\"Enter a Number: \"))\n",
    "fact = 1\n",
    "for i in range(2, n + 1):\n",
    "    fact *= i\n",
    "print(\"Factorial = \", fact)"
   ]
  },
  {
   "cell_type": "code",
   "execution_count": 25,
   "id": "ed62961d",
   "metadata": {},
   "outputs": [
    {
     "name": "stdout",
     "output_type": "stream",
     "text": [
      "Enter a Number: 145\n",
      "Number is a Strong number. \n"
     ]
    }
   ],
   "source": [
    "#26. \"Program to find whether a given number is a strong number or not.\n",
    "'''e.g. n=145          1!+4!+5!==145'''\n",
    "n1 = int(input(\"Enter a Number: \"))\n",
    "n2 = n1\n",
    "sum = rem = 0\n",
    "fact = 1\n",
    "while n2 > 0:\n",
    "    rem = n2 % 10\n",
    "    for i in range(2, rem + 1):\n",
    "        fact *= i\n",
    "    sum += fact\n",
    "    n2 //= 10\n",
    "    fact = 1\n",
    "if sum == n1:\n",
    "    print(\"Number is a Strong number. \")\n",
    "else:\n",
    "    print(\"Number is not an Strong number. \")"
   ]
  },
  {
   "cell_type": "code",
   "execution_count": 34,
   "id": "afd072ab",
   "metadata": {},
   "outputs": [
    {
     "name": "stdout",
     "output_type": "stream",
     "text": [
      "Enter a Number:11221\n",
      "Number is a Unique Number. \n"
     ]
    }
   ],
   "source": [
    "#27. Program to find whether a given number is a unique number. For example, 20, 56, 9863, 145, etc. are the unique numbers while 33, 121, 900, 1010, etc. are not unique numbers\n",
    "n = list(map(int, input(\"Enter a Number:\").split()))\n",
    "n1 = []\n",
    "for i in n:\n",
    "    if i not in n1:\n",
    "        n1.append(i)\n",
    "if len(n) == len(n1):\n",
    "    print(\"Number is a Unique Number. \")\n",
    "else:\n",
    "    print(\"Number is not a Unique Number. \")"
   ]
  },
  {
   "cell_type": "code",
   "execution_count": 16,
   "id": "70971b9b",
   "metadata": {},
   "outputs": [
    {
     "name": "stdout",
     "output_type": "stream",
     "text": [
      "Enter a Number: 6\n",
      "Number is a Perfect Number. \n"
     ]
    }
   ],
   "source": [
    "#28. Program to find whether a given number is a perfect number or not.\n",
    "n = int(input(\"Enter a Number: \"))\n",
    "sum = 1\n",
    "i = 2\n",
    "while n >= i * i:\n",
    "    if n % i == 0:\n",
    "        sum += i + (n / i)\n",
    "    i += 1\n",
    "if n != 1 and sum == n:\n",
    "    print(\"Number is a Perfect Number. \")\n",
    "else:\n",
    "    print(\"Number is not a Perfect Number. \")"
   ]
  },
  {
   "cell_type": "code",
   "execution_count": 11,
   "id": "352f8b5f",
   "metadata": {},
   "outputs": [
    {
     "name": "stdout",
     "output_type": "stream",
     "text": [
      "Enter a Number: 2\n",
      "2  is a prime number. \n"
     ]
    }
   ],
   "source": [
    "#29. Program to find whether a given number is a prime number or not.\n",
    "import math\n",
    "n = int(input(\"Enter a Number: \"))\n",
    "flag = 0\n",
    "for i in range(2, int(math.sqrt(n)) + 1, 1):\n",
    "    if n % i == 0:\n",
    "        flag = 1\n",
    "        break\n",
    "if n == 1:\n",
    "    print(n, \" is neither prime nor a composite number.\")\n",
    "else:\n",
    "    if flag == 0:\n",
    "        print(n, \" is a prime number. \")\n",
    "    else:\n",
    "        print(n, \" is not a prime number. \")"
   ]
  },
  {
   "cell_type": "code",
   "execution_count": 7,
   "id": "996c9cca",
   "metadata": {},
   "outputs": [
    {
     "name": "stdout",
     "output_type": "stream",
     "text": [
      "* * * * * \n",
      "* * * * \n",
      "* * * \n",
      "* * \n",
      "* \n"
     ]
    }
   ],
   "source": [
    "#30. Print downward Half-Pyramid Pattern with Star (asterisk)\n",
    "'''\n",
    "* * * * *  \n",
    "* * * *  \n",
    "* * *  \n",
    "* *  \n",
    "*\n",
    "'''\n",
    "for i in range(5, 0, -1):\n",
    "    print(\"* \"*i)"
   ]
  },
  {
   "cell_type": "code",
   "execution_count": 30,
   "id": "cda67a1d",
   "metadata": {},
   "outputs": [
    {
     "name": "stdout",
     "output_type": "stream",
     "text": [
      "1\n",
      "22\n",
      "333\n",
      "4444\n",
      "55555\n",
      "666666\n",
      "7777777\n",
      "88888888\n",
      "999999999\n"
     ]
    }
   ],
   "source": [
    "#31. Print  following pattern: \n",
    "'''\n",
    "1\n",
    "22\n",
    "333\n",
    "4444\n",
    "55555\n",
    "666666\n",
    "7777777\n",
    "88888888\n",
    "999999999\n",
    "'''\n",
    "for i in range(1, 10, 1):\n",
    "    for j in range(1, i + 1, 1):\n",
    "        print(i, end = \"\")\n",
    "    print()"
   ]
  },
  {
   "cell_type": "code",
   "execution_count": 33,
   "id": "54671bf3",
   "metadata": {},
   "outputs": [
    {
     "name": "stdout",
     "output_type": "stream",
     "text": [
      "1\n",
      "12\n",
      "123\n",
      "1234\n",
      "12345\n",
      "123456\n",
      "1234567\n",
      "12345678\n",
      "123456789\n"
     ]
    }
   ],
   "source": [
    "#32. Print  following pattern: \n",
    "'''\n",
    "1\n",
    "12\n",
    "123\n",
    "1234\n",
    "12345\n",
    "123456\n",
    "1234567\n",
    "12345678\n",
    "123456789\n",
    "'''\n",
    "for i in range(1, 10, 1):\n",
    "    for j in range(1, i + 1, 1):\n",
    "        print(j, end = \"\")\n",
    "    print()"
   ]
  },
  {
   "cell_type": "code",
   "execution_count": 32,
   "id": "e9bde24f",
   "metadata": {},
   "outputs": [
    {
     "name": "stdout",
     "output_type": "stream",
     "text": [
      "A\n",
      "BB\n",
      "CCC\n",
      "DDDD\n",
      "EEEEE\n",
      "FFFFFF\n",
      "GGGGGGG\n",
      "HHHHHHHH\n"
     ]
    }
   ],
   "source": [
    "#33. Print following pattern: \n",
    "'''\n",
    "A\n",
    "BB\n",
    "CCC\n",
    "DDDD\n",
    "EEEEE\n",
    "FFFFFF\n",
    "GGGGGGG\n",
    "HHHHHHHH\n",
    "'''\n",
    "temp = 65\n",
    "for i in range(1, 9, 1):\n",
    "    for j in range(1, i + 1, 1):\n",
    "        print(\"%c\" %temp, end = \"\")\n",
    "    temp += 1\n",
    "    print()"
   ]
  }
 ],
 "metadata": {
  "kernelspec": {
   "display_name": "Python 3",
   "language": "python",
   "name": "python3"
  },
  "language_info": {
   "codemirror_mode": {
    "name": "ipython",
    "version": 3
   },
   "file_extension": ".py",
   "mimetype": "text/x-python",
   "name": "python",
   "nbconvert_exporter": "python",
   "pygments_lexer": "ipython3",
   "version": "3.8.8"
  }
 },
 "nbformat": 4,
 "nbformat_minor": 5
}
