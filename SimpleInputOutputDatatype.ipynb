{
 "cells": [
  {
   "cell_type": "code",
   "execution_count": 2,
   "id": "21611390",
   "metadata": {},
   "outputs": [
    {
     "name": "stdout",
     "output_type": "stream",
     "text": [
      "Enter a Float Number: 1.23456\n",
      "1.23\n"
     ]
    }
   ],
   "source": [
    "#1. Display float number with 2 decimal places using print()\n",
    "num = float(input(\"Enter a Float Number: \"))\n",
    "print(\"{:.2f}\".format(num))"
   ]
  },
  {
   "cell_type": "code",
   "execution_count": 18,
   "id": "2dc56fd9",
   "metadata": {},
   "outputs": [
    {
     "name": "stdout",
     "output_type": "stream",
     "text": [
      "Enter Two Integer Numbers: 1 2\n",
      "Product =  2\n"
     ]
    }
   ],
   "source": [
    "#2. Takes two integer numbers and  return their product.\n",
    "n1, n2 = map(int, input(\"Enter Two Integer Numbers: \").split())\n",
    "print(\"Product = \", n1 * n2)"
   ]
  },
  {
   "cell_type": "code",
   "execution_count": 7,
   "id": "0203b71d",
   "metadata": {},
   "outputs": [
    {
     "name": "stdout",
     "output_type": "stream",
     "text": [
      "Volume of a Sphere with radius  10  =  4188.790204786391  cube units.\n"
     ]
    }
   ],
   "source": [
    "#3. Write a Python program to get the volume of a sphere with radius 10.\n",
    "import math\n",
    "r = 10\n",
    "print(\"Volume of a Sphere with radius \", r, \" = \", (4/3) * math.pi * (r ** 3), \" cube units.\")"
   ]
  },
  {
   "cell_type": "code",
   "execution_count": 8,
   "id": "9964c0bd",
   "metadata": {},
   "outputs": [
    {
     "name": "stdout",
     "output_type": "stream",
     "text": [
      "Enter Two Integer Numbers: 4 5\n",
      "Product =  20\n"
     ]
    }
   ],
   "source": [
    "#4. Accept two numbers from the user and multiply them together.\n",
    "n1, n2 = map(int, input(\"Enter Two Integer Numbers: \").split())\n",
    "print(\"Product = \", n1 * n2)"
   ]
  },
  {
   "cell_type": "code",
   "execution_count": 11,
   "id": "49a2e63f",
   "metadata": {},
   "outputs": [
    {
     "name": "stdout",
     "output_type": "stream",
     "text": [
      "Enter a Number: 1\n",
      "123\n"
     ]
    }
   ],
   "source": [
    "#5. Write a Python program that accepts an integer (a) and computes the value of a+aa+aaa.\n",
    "a = int(input(\"Enter a Number: \"))\n",
    "print(int(\"%s\" %a) + int(\"%s%s\" %(a, a)) + int(\"%s%s%s\" %(a, a, a)))"
   ]
  },
  {
   "cell_type": "code",
   "execution_count": 12,
   "id": "07a5e4db",
   "metadata": {},
   "outputs": [
    {
     "name": "stdout",
     "output_type": "stream",
     "text": [
      "Enter s String: abcdefg\n",
      "Length of String:  7\n"
     ]
    }
   ],
   "source": [
    "#6. Write a Python program to calculate the length of a string\n",
    "s = input(\"Enter s String: \")\n",
    "print(\"Length of String: \", len(s))"
   ]
  },
  {
   "cell_type": "code",
   "execution_count": 17,
   "id": "9ea01090",
   "metadata": {},
   "outputs": [
    {
     "name": "stdout",
     "output_type": "stream",
     "text": [
      "Enter s String: 12345.6789\n",
      "Parsing the String to Integer:  12345\n",
      "Parsing the String to Float:  12345.6789\n"
     ]
    }
   ],
   "source": [
    "#7. Write a Python program to parse a string to Float & Integer\n",
    "s = input(\"Enter s String: \")\n",
    "print(\"Parsing the String to Integer: \", int(float(s)))\n",
    "print(\"Parsing the String to Float: \", float(s))"
   ]
  }
 ],
 "metadata": {
  "kernelspec": {
   "display_name": "Python 3",
   "language": "python",
   "name": "python3"
  },
  "language_info": {
   "codemirror_mode": {
    "name": "ipython",
    "version": 3
   },
   "file_extension": ".py",
   "mimetype": "text/x-python",
   "name": "python",
   "nbconvert_exporter": "python",
   "pygments_lexer": "ipython3",
   "version": "3.8.8"
  }
 },
 "nbformat": 4,
 "nbformat_minor": 5
}
